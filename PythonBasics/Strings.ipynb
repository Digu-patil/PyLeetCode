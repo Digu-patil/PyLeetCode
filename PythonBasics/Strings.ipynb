{
 "cells": [
  {
   "cell_type": "markdown",
   "id": "c0c68f10",
   "metadata": {},
   "source": [
    "# Strings in Python\n",
    "\n",
    "- String in python are stored as an array of bytes representing unicode characters\n",
    "- e.g. 'Python' will be sotred as [80, 121, 116, 104, 111, 110]\n",
    "- It would not actually be a list of elements but will be stored as a compressed sequence of characters.\n",
    "\n",
    "Note - Python does not have a character data type, so a single character will be s stirng with length 1"
   ]
  },
  {
   "cell_type": "code",
   "execution_count": 16,
   "id": "17e0d564",
   "metadata": {},
   "outputs": [
    {
     "name": "stdout",
     "output_type": "stream",
     "text": [
      "b'Python'\n",
      "[80, 121, 116, 104, 111, 110]\n"
     ]
    }
   ],
   "source": [
    "s = 'Python'\n",
    "s_byte = s.encode('utf-8')\n",
    "\n",
    "print(s_byte) # b'Python'\n",
    "\n",
    "print(list(s_byte)) # [80, 121, 116, 104, 111, 110]"
   ]
  },
  {
   "cell_type": "code",
   "execution_count": 26,
   "id": "06b599d8",
   "metadata": {},
   "outputs": [
    {
     "name": "stdout",
     "output_type": "stream",
     "text": [
      "P y t h o n\n",
      "n o h t y P\n",
      "nohtyP\n",
      "Pto\n"
     ]
    }
   ],
   "source": [
    "# Accessing Elements of a string\n",
    "\n",
    "s = 'Python'\n",
    "\n",
    "print(s[0],s[1],s[2],s[3],s[4],s[5])\n",
    "\n",
    "print(s[-1],s[-2],s[-3],s[-4],s[-5],s[-6])\n",
    "\n",
    "\n",
    "# String Sclicing\n",
    "# start : stop : step\n",
    "print(s[::-1])\n",
    "print(s[::2])\n"
   ]
  },
  {
   "cell_type": "markdown",
   "id": "60acd893",
   "metadata": {},
   "source": [
    "# Building .find()\n",
    "\n",
    "- The find() fucntion takes in one argument and finds the first index of occurance of that argument\n",
    "- Hello.find(ll), output will be 2"
   ]
  },
  {
   "cell_type": "code",
   "execution_count": 36,
   "id": "ef807080",
   "metadata": {},
   "outputs": [
    {
     "name": "stdout",
     "output_type": "stream",
     "text": [
      "2\n",
      "-1\n"
     ]
    }
   ],
   "source": [
    "def find_function(main_str, sub_str):\n",
    "    '''\n",
    "    Provide the main_str, this funciton will find the first occurance of the sub_str\n",
    "    '''\n",
    "    start = 0\n",
    "    end = len(sub_str)\n",
    "    sub_end = len(sub_str)\n",
    "    main_len = len(main_str)\n",
    "    while start <= main_len - sub_end:\n",
    "        if main_str[start:end] == sub_str:\n",
    "            return start\n",
    "        start += 1\n",
    "        end += 1\n",
    "    return -1\n",
    "\n",
    "x = find_function('hello','ll')\n",
    "print(x) \n",
    "\n",
    "y = find_function('hello','eh')\n",
    "print(y)"
   ]
  },
  {
   "cell_type": "code",
   "execution_count": 38,
   "id": "b5077c6f",
   "metadata": {},
   "outputs": [
    {
     "name": "stdout",
     "output_type": "stream",
     "text": [
      "[0, 8]\n"
     ]
    }
   ],
   "source": [
    "'''\n",
    "Now lets make the above find function a little interesting\n",
    "1. Now lets find the index of occurance of all the indexes\n",
    "2. 'geeksforgeeks' will return [0,8]\n",
    "'''\n",
    "\n",
    "def index_finder(main_str, sub_str):\n",
    "    '''\n",
    "    Provide the main_str, this funciton will find the first index of all occurance of the sub_str\n",
    "    '''\n",
    "    start = 0\n",
    "    end = len(sub_str)\n",
    "    sub_end = len(sub_str)\n",
    "    main_len = len(main_str)\n",
    "    #let's have a stirng to store the number of occurences\n",
    "    str_list = []\n",
    "    while start <= main_len - sub_end:\n",
    "        if main_str[start:end] == sub_str:\n",
    "            str_list.append(start)\n",
    "        start += 1\n",
    "        end += 1\n",
    "    if len(str_list) == 0:\n",
    "        return -1\n",
    "    else:\n",
    "        return str_list\n",
    "    \n",
    "x = index_finder('geeksforgeeks','geeks')\n",
    "print(x) \n"
   ]
  },
  {
   "cell_type": "markdown",
   "id": "f1b561aa",
   "metadata": {},
   "source": [
    "# Building .count() for strings\n",
    "- The .count function counts the occurence of the argument passed\n",
    "- for geeksforgeeks and a sub string geeks it would return 2"
   ]
  },
  {
   "cell_type": "code",
   "execution_count": 41,
   "id": "ae531652",
   "metadata": {},
   "outputs": [
    {
     "name": "stdout",
     "output_type": "stream",
     "text": [
      "4\n"
     ]
    }
   ],
   "source": [
    "def count_function(main_str, sub_str):\n",
    "    '''\n",
    "    This function replicates the working of the .count() funciton\n",
    "    '''\n",
    "    start = 0\n",
    "    end = len(sub_str)\n",
    "    ct = 0\n",
    "    while start <= len(main_str)-len(sub_str):\n",
    "        if main_str[start:end] == sub_str:\n",
    "            ct += 1\n",
    "        start += 1\n",
    "        end += 1\n",
    "    return ct\n",
    "\n",
    "x = count_function('geeksforgeeks geeksforgeeks','geeks')\n",
    "print(x)"
   ]
  },
  {
   "cell_type": "markdown",
   "id": "49d71505",
   "metadata": {},
   "source": [
    "# Binary Addition"
   ]
  },
  {
   "cell_type": "code",
   "execution_count": null,
   "id": "cdef03fe",
   "metadata": {},
   "outputs": [
    {
     "name": "stdout",
     "output_type": "stream",
     "text": [
      "1\n"
     ]
    }
   ],
   "source": [
    "a = \"11\"\n",
    "b = \"1\"\n",
    "i = -1\n",
    "j = 0\n",
    "l = []\n",
    "\n",
    "\n",
    "# step 1 get them in same length\n",
    "if len(a) > len(b):\n",
    "    add_factor = len(a) - len(b)\n",
    "    add_str = '0'*add_factor\n",
    "    b = add_str + b\n",
    "else:\n",
    "    add_factor = len(b)-len(a)\n",
    "    add_str = '0'*add_factor\n",
    "    a = add_str + a\n",
    "\n",
    "carry = 0\n",
    "while j <= len(a): \n",
    "    sum = int(a[i]) + int(b[i])\n",
    "    new_bit = sum % 2\n",
    "    new_carry = sum // 2 \n",
    "\n",
    "\n"
   ]
  }
 ],
 "metadata": {
  "kernelspec": {
   "display_name": "Python 3",
   "language": "python",
   "name": "python3"
  },
  "language_info": {
   "codemirror_mode": {
    "name": "ipython",
    "version": 3
   },
   "file_extension": ".py",
   "mimetype": "text/x-python",
   "name": "python",
   "nbconvert_exporter": "python",
   "pygments_lexer": "ipython3",
   "version": "3.12.10"
  }
 },
 "nbformat": 4,
 "nbformat_minor": 5
}
