{
 "cells": [
  {
   "cell_type": "markdown",
   "id": "c0c68f10",
   "metadata": {},
   "source": [
    "# Strings in Python\n",
    "\n",
    "- String in python are stored as an array of bytes representing unicode characters\n",
    "- e.g. 'Python' will be sotred as [80, 121, 116, 104, 111, 110]\n",
    "- It would not actually be a list of elements but will be stored as a compressed sequence of characters.\n",
    "\n",
    "Note - Python does not have a character data type, so a single character will be s stirng with length 1"
   ]
  },
  {
   "cell_type": "code",
   "execution_count": 16,
   "id": "17e0d564",
   "metadata": {},
   "outputs": [
    {
     "name": "stdout",
     "output_type": "stream",
     "text": [
      "b'Python'\n",
      "[80, 121, 116, 104, 111, 110]\n"
     ]
    }
   ],
   "source": [
    "s = 'Python'\n",
    "s_byte = s.encode('utf-8')\n",
    "\n",
    "print(s_byte) # b'Python'\n",
    "\n",
    "print(list(s_byte)) # [80, 121, 116, 104, 111, 110]"
   ]
  },
  {
   "cell_type": "code",
   "execution_count": 26,
   "id": "06b599d8",
   "metadata": {},
   "outputs": [
    {
     "name": "stdout",
     "output_type": "stream",
     "text": [
      "P y t h o n\n",
      "n o h t y P\n",
      "nohtyP\n",
      "Pto\n"
     ]
    }
   ],
   "source": [
    "# Accessing Elements of a string\n",
    "\n",
    "s = 'Python'\n",
    "\n",
    "print(s[0],s[1],s[2],s[3],s[4],s[5])\n",
    "\n",
    "print(s[-1],s[-2],s[-3],s[-4],s[-5],s[-6])\n",
    "\n",
    "\n",
    "# String Sclicing\n",
    "# start : stop : step\n",
    "print(s[::-1])\n",
    "print(s[::2])\n"
   ]
  }
 ],
 "metadata": {
  "kernelspec": {
   "display_name": "Python 3",
   "language": "python",
   "name": "python3"
  },
  "language_info": {
   "codemirror_mode": {
    "name": "ipython",
    "version": 3
   },
   "file_extension": ".py",
   "mimetype": "text/x-python",
   "name": "python",
   "nbconvert_exporter": "python",
   "pygments_lexer": "ipython3",
   "version": "3.12.10"
  }
 },
 "nbformat": 4,
 "nbformat_minor": 5
}
