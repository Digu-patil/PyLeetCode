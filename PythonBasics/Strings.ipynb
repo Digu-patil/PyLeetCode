{
 "cells": [
  {
   "cell_type": "markdown",
   "id": "c0c68f10",
   "metadata": {},
   "source": [
    "# Strings in Python\n",
    "\n",
    "- String in python are stored as an array of bytes representing unicode characters\n",
    "- e.g. 'Python' will be sotred as [80, 121, 116, 104, 111, 110]\n",
    "- It would not actually be a list of elements but will be stored as a compressed sequence of characters.\n",
    "\n",
    "Note - Python does not have a character data type, so a single character will be s stirng with length 1"
   ]
  },
  {
   "cell_type": "code",
   "execution_count": 16,
   "id": "17e0d564",
   "metadata": {},
   "outputs": [
    {
     "name": "stdout",
     "output_type": "stream",
     "text": [
      "b'Python'\n",
      "[80, 121, 116, 104, 111, 110]\n"
     ]
    }
   ],
   "source": [
    "s = 'Python'\n",
    "s_byte = s.encode('utf-8')\n",
    "\n",
    "print(s_byte) # b'Python'\n",
    "\n",
    "print(list(s_byte)) # [80, 121, 116, 104, 111, 110]"
   ]
  },
  {
   "cell_type": "code",
   "execution_count": 26,
   "id": "06b599d8",
   "metadata": {},
   "outputs": [
    {
     "name": "stdout",
     "output_type": "stream",
     "text": [
      "P y t h o n\n",
      "n o h t y P\n",
      "nohtyP\n",
      "Pto\n"
     ]
    }
   ],
   "source": [
    "# Accessing Elements of a string\n",
    "\n",
    "s = 'Python'\n",
    "\n",
    "print(s[0],s[1],s[2],s[3],s[4],s[5])\n",
    "\n",
    "print(s[-1],s[-2],s[-3],s[-4],s[-5],s[-6])\n",
    "\n",
    "\n",
    "# String Sclicing\n",
    "# start : stop : step\n",
    "print(s[::-1])\n",
    "print(s[::2])\n"
   ]
  },
  {
   "cell_type": "markdown",
   "id": "60acd893",
   "metadata": {},
   "source": [
    "# Building .find()\n",
    "\n",
    "- The find() fucntion takes in one argument and finds the first index of occurance of that argument\n",
    "- Hello.find(ll), output will be 2"
   ]
  },
  {
   "cell_type": "code",
   "execution_count": 17,
   "id": "ef807080",
   "metadata": {},
   "outputs": [
    {
     "name": "stdout",
     "output_type": "stream",
     "text": [
      "2\n",
      "-1\n",
      "15\n"
     ]
    },
    {
     "data": {
      "text/plain": [
       "'geeks for geeks'"
      ]
     },
     "execution_count": 17,
     "metadata": {},
     "output_type": "execute_result"
    }
   ],
   "source": [
    "def find_function(main_str, sub_str):\n",
    "    '''\n",
    "    Provide the main_str, this funciton will find the first occurance of the sub_str\n",
    "    '''\n",
    "    start = 0\n",
    "    end = len(sub_str)\n",
    "    sub_end = len(sub_str)\n",
    "    main_len = len(main_str)\n",
    "    while start <= main_len - sub_end:\n",
    "        if main_str[start:end] == sub_str:\n",
    "            return start\n",
    "        start += 1\n",
    "        end += 1\n",
    "    return -1\n",
    "\n",
    "x = find_function('hello','ll')\n",
    "print(x) \n",
    "\n",
    "y = find_function('hello','eh')\n",
    "print(y)\n",
    "\n",
    "s = 'geeks for geeks'\n",
    "print(len(s))\n",
    "s[0:15]"
   ]
  },
  {
   "cell_type": "code",
   "execution_count": 38,
   "id": "b5077c6f",
   "metadata": {},
   "outputs": [
    {
     "name": "stdout",
     "output_type": "stream",
     "text": [
      "[0, 8]\n"
     ]
    }
   ],
   "source": [
    "'''\n",
    "Now lets make the above find function a little interesting\n",
    "1. Now lets find the index of occurance of all the indexes\n",
    "2. 'geeksforgeeks' will return [0,8]\n",
    "'''\n",
    "\n",
    "def index_finder(main_str, sub_str):\n",
    "    '''\n",
    "    Provide the main_str, this funciton will find the first index of all occurance of the sub_str\n",
    "    '''\n",
    "    start = 0\n",
    "    end = len(sub_str)\n",
    "    sub_end = len(sub_str)\n",
    "    main_len = len(main_str)\n",
    "    #let's have a stirng to store the number of occurences\n",
    "    str_list = []\n",
    "    while start <= main_len - sub_end:\n",
    "        if main_str[start:end] == sub_str:\n",
    "            str_list.append(start)\n",
    "        start += 1\n",
    "        end += 1\n",
    "    if len(str_list) == 0:\n",
    "        return -1\n",
    "    else:\n",
    "        return str_list\n",
    "    \n",
    "x = index_finder('geeksforgeeks','geeks')\n",
    "print(x) \n"
   ]
  },
  {
   "cell_type": "markdown",
   "id": "f1b561aa",
   "metadata": {},
   "source": [
    "# Building .count() for strings\n",
    "- The .count function counts the occurence of the argument passed\n",
    "- for geeksforgeeks and a sub string geeks it would return 2"
   ]
  },
  {
   "cell_type": "code",
   "execution_count": 41,
   "id": "ae531652",
   "metadata": {},
   "outputs": [
    {
     "name": "stdout",
     "output_type": "stream",
     "text": [
      "4\n"
     ]
    }
   ],
   "source": [
    "def count_function(main_str, sub_str):\n",
    "    '''\n",
    "    This function replicates the working of the .count() funciton\n",
    "    '''\n",
    "    start = 0\n",
    "    end = len(sub_str)\n",
    "    ct = 0\n",
    "    while start <= len(main_str)-len(sub_str):\n",
    "        if main_str[start:end] == sub_str:\n",
    "            ct += 1\n",
    "        start += 1\n",
    "        end += 1\n",
    "    return ct\n",
    "\n",
    "x = count_function('geeksforgeeks geeksforgeeks','geeks')\n",
    "print(x)"
   ]
  },
  {
   "cell_type": "markdown",
   "id": "38bc4361",
   "metadata": {},
   "source": [
    "# Building split()\n",
    "- Split creates a list based on a string input\n",
    "- i.e., for geeks for geeks it will create ['geeks', 'for', 'geeks']\n",
    "- it takes 1 argument as the delimiter, buy default space is consdired as a delimiter"
   ]
  },
  {
   "cell_type": "code",
   "execution_count": 9,
   "id": "49898633",
   "metadata": {},
   "outputs": [
    {
     "name": "stdout",
     "output_type": "stream",
     "text": [
      "['geeks', 'for', 'geeks']\n",
      "['geeks', 'for', 'geeks']\n"
     ]
    }
   ],
   "source": [
    "s = 'geeks  for geeks'\n",
    "\n",
    "print(s.split()) # ['geeks', 'for', 'geeks']\n",
    "\n",
    "'''\n",
    "find index for delimiter and consdier that as the end of the string sclicing\n",
    "'''\n",
    "start = 0\n",
    "end = 0\n",
    "delimiter = ' '\n",
    "ls = []\n",
    "while end < len(s) :\n",
    "    if s[end] == delimiter:\n",
    "        if start != end:\n",
    "            ls.append(s[start:end])\n",
    "        start = end + 1\n",
    "    end += 1\n",
    "ls.append(s[start:end])\n",
    "print(ls)\n",
    "    \n"
   ]
  },
  {
   "cell_type": "markdown",
   "id": "49d71505",
   "metadata": {},
   "source": [
    "# Binary Addition"
   ]
  },
  {
   "cell_type": "code",
   "execution_count": null,
   "id": "cdef03fe",
   "metadata": {},
   "outputs": [
    {
     "name": "stdout",
     "output_type": "stream",
     "text": [
      "1\n"
     ]
    }
   ],
   "source": [
    "a = \"11\"\n",
    "b = \"1\"\n",
    "i = -1\n",
    "j = 0\n",
    "l = []\n",
    "\n",
    "\n",
    "# step 1 get them in same length\n",
    "if len(a) > len(b):\n",
    "    add_factor = len(a) - len(b)\n",
    "    add_str = '0'*add_factor\n",
    "    b = add_str + b\n",
    "else:\n",
    "    add_factor = len(b)-len(a)\n",
    "    add_str = '0'*add_factor\n",
    "    a = add_str + a\n",
    "\n",
    "carry = 0\n",
    "while j <= len(a): \n",
    "    sum = int(a[i]) + int(b[i])\n",
    "    new_bit = sum % 2\n",
    "    new_carry = sum // 2 \n",
    "\n",
    "\n"
   ]
  },
  {
   "cell_type": "code",
   "execution_count": 40,
   "id": "59736c67",
   "metadata": {},
   "outputs": [
    {
     "name": "stdout",
     "output_type": "stream",
     "text": [
      "True\n",
      "2\n",
      "1\n"
     ]
    }
   ],
   "source": [
    "# s = \"A mana, a plan, a canal: Panama\"\n",
    "s= \" \"\n",
    "\n",
    "lower_s = s.lower()\n",
    "start = 0\n",
    "end = len(lower_s) -1\n",
    "while start < end:\n",
    "    if not lower_s[start].isalnum():\n",
    "        start += 1\n",
    "    elif not lower_s[end].isalnum():\n",
    "        end -=1\n",
    "    elif lower_s[start] == lower_s[end]:\n",
    "        start += 1\n",
    "        end -= 1\n",
    "    elif lower_s[start] != lower_s[end]:\n",
    "        print(False)\n",
    "        break\n",
    "print(True)\n",
    "\n",
    "\n",
    "num = 53#2147483647\n",
    "\n",
    "while num >= 26 :\n",
    "    char_val = num % 26\n",
    "    num //= 26\n",
    "    print(num)\n",
    "    print(char_val)\n",
    "\n",
    "\n"
   ]
  },
  {
   "cell_type": "code",
   "execution_count": 35,
   "id": "3899e411",
   "metadata": {},
   "outputs": [
    {
     "name": "stdout",
     "output_type": "stream",
     "text": [
      "[[0, 3], [1, 2, 4], 1]\n",
      "[[0, 3], [1, 2, 4]]\n"
     ]
    }
   ],
   "source": [
    "s = \"eggeg\"\n",
    "t = \"addad\"\n",
    "\n",
    "s_dict = {'e' : [0,3], 'g' :[1,2,4]}\n",
    "t_dict = {'t' : [0,3], 'd' :[1,2,4]}\n",
    "ct = 0\n",
    "\n",
    "s_dict['c'] = 1\n",
    "\n",
    "print(list(s_dict.values()))\n",
    "\n",
    "print(list(t_dict.values()))\n",
    "\n",
    "if list(s_dict.values()) == list(t_dict.values()) :\n",
    "    print(True)\n",
    "\n"
   ]
  },
  {
   "cell_type": "code",
   "execution_count": 41,
   "id": "ad305835",
   "metadata": {},
   "outputs": [
    {
     "name": "stdout",
     "output_type": "stream",
     "text": [
      "([0, 2], [1], [3], [4])\n",
      "([0, 2], [1], [3], [4])\n",
      "True\n",
      "p t\n",
      "a i\n",
      "p t\n",
      "e l\n",
      "r e\n"
     ]
    }
   ],
   "source": [
    "s = \"paper\"\n",
    "t = \"title\"\n",
    "s_dict= {}\n",
    "\n",
    "t_dict = {}\n",
    "for index, char in enumerate(s):\n",
    "    if char in s_dict:\n",
    "        s_dict[char].append(index)\n",
    "    else:\n",
    "        s_dict[char] = [index]\n",
    "\n",
    "t_dict = {}\n",
    "for index, char in enumerate(t):\n",
    "    if char in t_dict:\n",
    "        t_dict[char].append(index)\n",
    "    else:\n",
    "        t_dict[char] = [index]\n",
    "print(tuple(s_dict.values()))\n",
    "print(tuple(t_dict.values()))\n",
    "\n",
    "print(list(t_dict.values()) == list(s_dict.values()))\n",
    "\n",
    "\n",
    "for i,h in zip(s,t):\n",
    "    print(i,h)"
   ]
  },
  {
   "cell_type": "code",
   "execution_count": 3,
   "id": "48123d5a",
   "metadata": {},
   "outputs": [
    {
     "name": "stdout",
     "output_type": "stream",
     "text": [
      "e\n"
     ]
    }
   ],
   "source": [
    "s = 'abcd'\n",
    "t = 'abcde'\n",
    "\n",
    "if len(s) == 0:\n",
    "    print(t)\n",
    "s_dict = {}\n",
    "t_dict = {}\n",
    "for i in s:\n",
    "    s_dict[i] = s_dict.get(i,0)+1\n",
    "for j in t:\n",
    "    t_dict[j]= t_dict.get(j,0)+1\n",
    "\n",
    "for i in t:\n",
    "    if (i not in s) or (s_dict[i] != t_dict[i]):\n",
    "        print(i)"
   ]
  },
  {
   "cell_type": "code",
   "execution_count": 16,
   "id": "f4c1d5e5",
   "metadata": {},
   "outputs": [
    {
     "data": {
      "text/plain": [
       "27"
      ]
     },
     "execution_count": 16,
     "metadata": {},
     "output_type": "execute_result"
    }
   ],
   "source": [
    "a = '11'\n",
    "\n",
    "int(a,26)"
   ]
  }
 ],
 "metadata": {
  "kernelspec": {
   "display_name": "Python 3",
   "language": "python",
   "name": "python3"
  },
  "language_info": {
   "codemirror_mode": {
    "name": "ipython",
    "version": 3
   },
   "file_extension": ".py",
   "mimetype": "text/x-python",
   "name": "python",
   "nbconvert_exporter": "python",
   "pygments_lexer": "ipython3",
   "version": "3.12.10"
  }
 },
 "nbformat": 4,
 "nbformat_minor": 5
}
