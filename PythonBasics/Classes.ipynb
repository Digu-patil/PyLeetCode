{
 "cells": [
  {
   "cell_type": "markdown",
   "id": "15fcc032",
   "metadata": {},
   "source": [
    "## Classes in Python\n",
    "\n",
    "- A Class is a buleprint of the object we want to create.\n",
    "- Creating a new class lets us create a new object\n",
    "- Functions inside of a class are called **\"Methods\"**.\n",
    "- Variables inside of a class are called **\"Attributes\"**."
   ]
  },
  {
   "cell_type": "code",
   "execution_count": 4,
   "id": "7caaf52f",
   "metadata": {},
   "outputs": [
    {
     "name": "stdout",
     "output_type": "stream",
     "text": [
      "emp is of type <class '__main__.Employee'>\n"
     ]
    }
   ],
   "source": [
    "class Employee():\n",
    "    pass\n",
    "\n",
    "# Creating an instance of the class\n",
    "emp1 = Employee()\n",
    "\n",
    "print(f'emp is of type {type(emp1)}')"
   ]
  },
  {
   "cell_type": "markdown",
   "id": "ecff3cbf",
   "metadata": {},
   "source": [
    "# Understanding _ _init_ _\n",
    "\n",
    "- __init__ is used to initialize attributes (variables) to the class\n",
    "- If class is the buleprint then using __init__ we can provide attributes to this class\n"
   ]
  },
  {
   "cell_type": "code",
   "execution_count": 15,
   "id": "5f25a3d8",
   "metadata": {},
   "outputs": [
    {
     "name": "stdout",
     "output_type": "stream",
     "text": [
      "Employee 1 name is Digvijay Patil\n",
      "-----------------------------------\n",
      "Employee 2 details are as follows \n",
      " first name = Digu \n",
      " last name = Patil \n",
      " email = Digu.Patil@company.com\n",
      "-----------------------------------\n",
      "1st Way Digu Patil\n",
      "2nd Way Digu Patil\n"
     ]
    }
   ],
   "source": [
    "'''\n",
    "For the employee class we defined above we can provide attributes after creating an class\n",
    "'''\n",
    "\n",
    "emp1.firstname = 'Digvijay'\n",
    "emp1.lastname = 'Patil'\n",
    "emp1.age = 26\n",
    "emp1.email = 'Digvijay.Patil@company.com'\n",
    "\n",
    "print(f'Employee 1 name is {emp1.firstname} {emp1.lastname}')\n",
    "print('-----------------------------------')\n",
    "\n",
    "#-------------------------------------------------------------------------------------------\n",
    "'''\n",
    "This same initialization we can do it using the __init__ constructor\n",
    "'''\n",
    "\n",
    "class EmployeeDetails():\n",
    "    #Initializing new variable\n",
    "    def __init__(self, firstname, lastname, age):\n",
    "        self.firstname = firstname\n",
    "        self.lastname = lastname\n",
    "        self.age = age\n",
    "        self.email = firstname + '.' + lastname + '@company.com'\n",
    "\n",
    "    def fullname(self):\n",
    "        return f'{self.firstname} {self.lastname}'\n",
    "    \n",
    "emp2 = EmployeeDetails('Digu', 'Patil', 26)\n",
    "\n",
    "print(f'Employee 2 details are as follows \\n first name = {emp2.firstname} \\n last name = {emp2.lastname} \\n email = {emp2.email}')\n",
    "#-------------------------------------------------------------------------------------------\n",
    "\n",
    "'''\n",
    "There are 2 ways to call a method from a class\n",
    "'''\n",
    "print('-----------------------------------')\n",
    "# 1st Way\n",
    "print(f'1st Way {emp2.fullname()}')\n",
    "\n",
    "# 2nd Way\n",
    "print(f'2nd Way {EmployeeDetails.fullname(emp2)}')"
   ]
  },
  {
   "cell_type": "markdown",
   "id": "3a5d65b7",
   "metadata": {},
   "source": [
    "# Understanding Class and Instance Varaibles\n",
    "\n",
    "- In the above example when we did emp1.firstname = 'Digvijay', here we initialized a variable to the instance\n",
    "- Now let's say we wanted to have common default variables for the entire class, then we can directly initalize them in the class itself\n",
    "- We can make use of \"_ _ dict _ _\" to pull details related to all the attributes of the class and the instance"
   ]
  },
  {
   "cell_type": "code",
   "execution_count": 23,
   "id": "2b509a8f",
   "metadata": {},
   "outputs": [
    {
     "name": "stdout",
     "output_type": "stream",
     "text": [
      "150000\n",
      "1.2\n",
      "1.2\n",
      "180000.0\n",
      "----------------\n",
      " Details of Class Attributes \n",
      " ----------------\n",
      "{'__module__': '__main__', 'standard_raise': 1.2, '__init__': <function EmployeeRaise.__init__ at 0x000001B117BB07C0>, 'raise_salary': <function EmployeeRaise.raise_salary at 0x000001B117BB0C20>, '__dict__': <attribute '__dict__' of 'EmployeeRaise' objects>, '__weakref__': <attribute '__weakref__' of 'EmployeeRaise' objects>, '__doc__': None}\n",
      "----------------\n",
      " Details of Instance Attributes \n",
      " ----------------\n",
      "{'firstname': 'Digu', 'lastname': 'Patil', 'emp_id': '14395', 'salary': 180000.0, 'rating': 1}\n"
     ]
    }
   ],
   "source": [
    "class EmployeeRaise():\n",
    "    standard_raise = 1.2 # 20 %\n",
    "\n",
    "    def __init__(self, firstname, lastname, emp_id, salary, rating):\n",
    "        self.firstname = firstname\n",
    "        self.lastname = lastname\n",
    "        self.emp_id = emp_id\n",
    "        self.salary = int(salary)\n",
    "        self.rating = int(rating)\n",
    "\n",
    "    def raise_salary(self):\n",
    "        self.salary *= self.standard_raise #this can also be Employee.standard_raise\n",
    "        '''\n",
    "           self.standard_raise refers to the instance of the class\n",
    "           we can also make it as EmployeeRaise.standard_raise\n",
    "        '''\n",
    "\n",
    "emp3 = EmployeeRaise('Digu', 'Patil','14395', 150000, 1)\n",
    "\n",
    "print(emp3.salary) # instance attribute\n",
    "print(emp3.standard_raise) # class attrubite\n",
    "'''\n",
    "    Here we pulled the class attrubute standard raise using the instance of the class\n",
    "    But we can also pull it by referring to the class\n",
    "'''\n",
    "print(EmployeeRaise.standard_raise)\n",
    "emp3.raise_salary()\n",
    "print(emp3.salary)\n",
    "\n",
    "print('----------------\\n Details of Class Attributes \\n ----------------')\n",
    "\n",
    "print(EmployeeRaise.__dict__)\n",
    "\n",
    "print('----------------\\n Details of Instance Attributes \\n ----------------')\n",
    "\n",
    "print(emp3.__dict__)\n",
    "\n"
   ]
  }
 ],
 "metadata": {
  "kernelspec": {
   "display_name": "Python 3",
   "language": "python",
   "name": "python3"
  },
  "language_info": {
   "codemirror_mode": {
    "name": "ipython",
    "version": 3
   },
   "file_extension": ".py",
   "mimetype": "text/x-python",
   "name": "python",
   "nbconvert_exporter": "python",
   "pygments_lexer": "ipython3",
   "version": "3.12.10"
  }
 },
 "nbformat": 4,
 "nbformat_minor": 5
}
