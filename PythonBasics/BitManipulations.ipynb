{
 "cells": [
  {
   "cell_type": "markdown",
   "id": "c2470ae4",
   "metadata": {},
   "source": [
    "# Thinking in Bits\n",
    "- Think of them as ON/OFF switch\n",
    "- The tinking process would help you evolve you as a better coder.\n",
    "- For each of the problems here, I will try to write 2 solutions, one normal and one using bit manipulations.\n",
    "- These list of problems are taken from leetcode\n",
    "\n",
    "# Bitwise Operations\n",
    "\n",
    "|Operator|Symbol|Name       |Description                        |\n",
    "|--------|------|-----------|-----------------------------------|\n",
    "|AND     |\"&\"     |Bitwise AND|1 if both the bits are 1         |\n",
    "|OR      |\"\\|\"     |Bitwise OR |1 if at lease one bit is 1       |\n",
    "|XOR     |\"^\"     |Bitwise XOR|1 if both bits are different     |\n",
    "|NOT     |\"~\"     |Bitwise NOT|flip all bits (1 to 0 and 0 to 1)|\n",
    "|Left Shift|\"<<\"     |Shift Left |Shift bits to the left, adding 0s |\n",
    "|Right Shift|\">>\"     |Shift Right |Shift bits to the right, discards and fills left|"
   ]
  },
  {
   "cell_type": "code",
   "execution_count": null,
   "id": "ed08339d",
   "metadata": {},
   "outputs": [],
   "source": []
  },
  {
   "cell_type": "markdown",
   "id": "5e114a23",
   "metadata": {},
   "source": []
  }
 ],
 "metadata": {
  "language_info": {
   "name": "python"
  }
 },
 "nbformat": 4,
 "nbformat_minor": 5
}
