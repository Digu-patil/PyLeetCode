{
 "cells": [
  {
   "cell_type": "markdown",
   "id": "c2470ae4",
   "metadata": {},
   "source": [
    "# Thinking in Bits\n",
    "- Think of them as ON/OFF switch\n",
    "- The tinking process would help you evolve you as a better coder.\n",
    "- For each of the problems here, I will try to write 2 solutions, one normal and one using bit manipulations.\n",
    "- These list of problems are taken from leetcode\n",
    "\n",
    "# Bitwise Operations\n",
    "\n",
    "|Operator|Symbol|Name       |Description                        |\n",
    "|--------|------|-----------|-----------------------------------|\n",
    "|AND     |\"&\"     |Bitwise AND|1 if both the bits are 1         |\n",
    "|OR      |\"\\|\"     |Bitwise OR |1 if at lease one bit is 1       |\n",
    "|XOR     |\"^\"     |Bitwise XOR|1 if both bits are different     |\n",
    "|NOT     |\"~\"     |Bitwise NOT|flip all bits (1 to 0 and 0 to 1)|\n",
    "|Left Shift|\"<<\"     |Shift Left |Shift bits to the left, adding 0s |\n",
    "|Right Shift|\">>\"     |Shift Right |Shift bits to the right, discards and fills left|"
   ]
  },
  {
   "cell_type": "code",
   "execution_count": null,
   "id": "ed08339d",
   "metadata": {},
   "outputs": [
    {
     "name": "stdout",
     "output_type": "stream",
     "text": [
      "100\n",
      "00011\n"
     ]
    }
   ],
   "source": [
    "'''\n",
    "Adding Binary\n",
    "\n",
    "Problem - Given 2 binary string we want to retrun their sum as a binary string\n",
    "a = '11'\n",
    "b = '1'\n",
    "\n",
    "output = '100'\n",
    "'''\n",
    "\n",
    "# Solution 1\n",
    "'''\n",
    "1. Convert the string to integer with base 2 (as its binary)\n",
    "2. Add the 2 integers\n",
    "3. Return the binary format of that integer\n",
    "'''\n",
    "\n",
    "def int_bin_solution(a,b):\n",
    "    sum_a_b = int(a,2) + int(b,2)\n",
    "    return bin(sum_a_b)[2:]\n",
    "\n"
   ]
  },
  {
   "cell_type": "markdown",
   "id": "5e114a23",
   "metadata": {},
   "source": []
  }
 ],
 "metadata": {
  "kernelspec": {
   "display_name": "Python 3",
   "language": "python",
   "name": "python3"
  },
  "language_info": {
   "codemirror_mode": {
    "name": "ipython",
    "version": 3
   },
   "file_extension": ".py",
   "mimetype": "text/x-python",
   "name": "python",
   "nbconvert_exporter": "python",
   "pygments_lexer": "ipython3",
   "version": "3.12.10"
  }
 },
 "nbformat": 4,
 "nbformat_minor": 5
}
