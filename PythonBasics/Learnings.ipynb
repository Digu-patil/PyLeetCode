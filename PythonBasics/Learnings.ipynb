{
 "cells": [
  {
   "cell_type": "markdown",
   "id": "63a50a0d",
   "metadata": {},
   "source": [
    "# June"
   ]
  },
  {
   "cell_type": "markdown",
   "id": "35f2a615",
   "metadata": {},
   "source": [
    "## 6/5/2025\n",
    "\n",
    "### function enumerate(iterable, start)\n",
    "- iterable = the sequence we want to loop thorugh\n",
    "- start (optional) = default is 0, what value should we start counting from \n",
    "\n"
   ]
  },
  {
   "cell_type": "code",
   "execution_count": 3,
   "id": "1374a71e",
   "metadata": {},
   "outputs": [
    {
     "name": "stdout",
     "output_type": "stream",
     "text": [
      "0 apple\n",
      "1 banana\n",
      "2 cherry\n",
      "--------------------\n",
      "1 apple\n",
      "2 banana\n",
      "3 cherry\n",
      "--------------------\n",
      "11 apple\n",
      "12 banana\n",
      "13 cherry\n",
      "--------------------\n",
      "0 a\n",
      "1 p\n",
      "2 p\n",
      "3 l\n",
      "4 e\n",
      "--------------------\n"
     ]
    }
   ],
   "source": [
    "#enumerate on arrays\n",
    "\n",
    "fruits_list = ['apple','banana','cherry']\n",
    "fruits_tuple = ('apple','banana','cherry')\n",
    "fruits_dict = {'apple','banana','cherry'}\n",
    "one_fruit = 'apple'\n",
    "\n",
    "for index,fruit in enumerate(fruits_list):\n",
    "    print(index,fruit)\n",
    "print(\"--------------------\")\n",
    "\n",
    "for index,fruit in enumerate(fruits_tuple,1):\n",
    "    print(index,fruit)\n",
    "print(\"--------------------\")\n",
    "\n",
    "for index,fruit in enumerate(fruits_dict,11):\n",
    "    print(index,fruit)\n",
    "print(\"--------------------\")\n",
    "\n",
    "for index,fruit in enumerate(one_fruit):\n",
    "    print(index,fruit)\n",
    "print(\"--------------------\")"
   ]
  },
  {
   "cell_type": "markdown",
   "id": "a09ae57d",
   "metadata": {},
   "source": [
    "## 6/6/2025\n",
    "\n",
    "### method index(iterator,start,stop)\n",
    "- this method works with data structures that are ordered i.e list, tuples, and strings\n",
    "- this will not work with dictionaries, sets as they are not ordered"
   ]
  },
  {
   "cell_type": "code",
   "execution_count": 18,
   "id": "ac952e9e",
   "metadata": {},
   "outputs": [
    {
     "name": "stdout",
     "output_type": "stream",
     "text": [
      "0\n",
      "4\n",
      "4\n"
     ]
    }
   ],
   "source": [
    "fruits_dict = ['apple','banana','cherry','mango','apple']\n",
    "\n",
    "# This would return the index for the first occurence of 'apple'\n",
    "i = fruits_dict.index('apple')\n",
    "print(i)\n",
    "#output = 0\n",
    "\n",
    "# This would skip the index 1, and look for apple for any other index than 1\n",
    "j = fruits_dict.index('apple',1)\n",
    "print(j)\n",
    "#output = 4\n",
    "\n",
    "# This would skip index 1 and look till index 5\n",
    "k = fruits_dict.index('apple',1,5)\n",
    "print(k)\n",
    "#output = 4"
   ]
  },
  {
   "cell_type": "markdown",
   "id": "68f118f3",
   "metadata": {},
   "source": [
    "## 6/11/2025\n",
    "\n",
    "### range() and xrange()\n",
    "\n",
    "- xrange() is not used on python 3\n",
    "- but remember that xrange() used to return xrange object\n",
    "- range() in python 3 return a range object which is an iterable object\n",
    "\n",
    "### Using else in for loop\n",
    "\n",
    "- Whenever we are using a for loop without \"break\", the else block gets executed "
   ]
  },
  {
   "cell_type": "code",
   "execution_count": null,
   "id": "dde4fab7",
   "metadata": {},
   "outputs": [
    {
     "name": "stdout",
     "output_type": "stream",
     "text": [
      "<class 'range'>\n",
      "1\n",
      "2\n",
      "3\n",
      "else statement got executed\n",
      "1\n",
      "1\n"
     ]
    }
   ],
   "source": [
    "# range\n",
    "a = range(1,10)\n",
    "print(type(a))\n",
    "\n",
    "\n",
    "# else in wih for loop\n",
    "\n",
    "for i in range(1,4):\n",
    "    print(i)\n",
    "else:\n",
    "    print(\"else statement got executed\")\n",
    "\n",
    "#####################################################\n",
    "\n",
    "for i in range(1,4):\n",
    "    print(i)\n",
    "    break # Adding break here\n",
    "else:\n",
    "    print(\"else statement got executed\")\n",
    "\n",
    "\n"
   ]
  },
  {
   "cell_type": "code",
   "execution_count": null,
   "id": "7622e785",
   "metadata": {},
   "outputs": [
    {
     "name": "stdout",
     "output_type": "stream",
     "text": [
      "Odd\n"
     ]
    }
   ],
   "source": []
  },
  {
   "cell_type": "code",
   "execution_count": null,
   "id": "8827c038",
   "metadata": {},
   "outputs": [],
   "source": []
  }
 ],
 "metadata": {
  "kernelspec": {
   "display_name": "Python 3",
   "language": "python",
   "name": "python3"
  },
  "language_info": {
   "codemirror_mode": {
    "name": "ipython",
    "version": 3
   },
   "file_extension": ".py",
   "mimetype": "text/x-python",
   "name": "python",
   "nbconvert_exporter": "python",
   "pygments_lexer": "ipython3",
   "version": "3.12.10"
  }
 },
 "nbformat": 4,
 "nbformat_minor": 5
}
