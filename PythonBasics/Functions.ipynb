{
 "cells": [
  {
   "cell_type": "markdown",
   "id": "4e72b320",
   "metadata": {},
   "source": [
    "# Functions in python \n",
    "- Any part of the code that is being reused, it's better to convert it to a function and then use it.\n",
    "- They also make the code more readable.\n",
    "- **Important** \n",
    "    - Add() -> Execute the function add\n",
    "    - Add -> refer the function without executing it.\n",
    "\n",
    "### Parameters \n",
    "- A variable that we provide while defining a funciton is called a Parameter\n",
    "- i.e def function_name (paramater1, paramanter2):\n",
    "\n",
    "### Arguments\n",
    "- The value we provide to a funciton when calling it are called arguments\n",
    "- i.e when calling function(1,2) - these 1 and 2 are the arguments\n"
   ]
  },
  {
   "cell_type": "code",
   "execution_count": null,
   "id": "bbdafa00",
   "metadata": {},
   "outputs": [
    {
     "name": "stdout",
     "output_type": "stream",
     "text": [
      "5\n",
      "\n",
      "    This function takens in 2 arguments and return the sum \n",
      "    \n"
     ]
    }
   ],
   "source": [
    "'''\n",
    "We can provide more information about the function using \"docstring\"\n",
    "'''\n",
    "\n",
    "def sum_two(x,y):\n",
    "    \"\"\"\n",
    "    This function takens in 2 arguments and return the sum \n",
    "    \"\"\"\n",
    "    return x + y\n",
    "\n",
    "'''Test Case'''\n",
    "print(sum_two.__doc__) # This reutrn the string we wrote at the start of the function\n",
    "print(sum_two(2,3))"
   ]
  },
  {
   "cell_type": "code",
   "execution_count": null,
   "id": "ce2bb0a9",
   "metadata": {},
   "outputs": [
    {
     "name": "stdout",
     "output_type": "stream",
     "text": [
      "13\n",
      "13\n",
      "15\n",
      "a 1\n",
      "b 2\n",
      "c 3\n",
      "d 4\n",
      "e 5\n"
     ]
    }
   ],
   "source": [
    "''' \n",
    "Types of Arguments\n",
    "'''\n",
    "\n",
    "#1. Simpel arguments = def num_sum (x,y)\n",
    "\n",
    "#2. Default argumetns = def num_sum1 (x, y=7)\n",
    "def num_sum1 (x, y=7):\n",
    "    \"\"\"Provide only once input as 2nd input is considered as 7 by default\"\"\"\n",
    "    return x+y\n",
    "print(num_sum1(6))\n",
    "\n",
    "#3. Keyword arguments = def num_sum2 (num1, num2)\n",
    "def num_sum2 (num1, num2):\n",
    "    return num1 + num2\n",
    "\n",
    "print(num_sum2(num1 = 6, num2 = 7)) # This is how we provide keyword argumetns\n",
    "\n",
    "\n",
    "'''\n",
    "Now let's say we do not want to limit arguments that we provide to the function\n",
    "like sum of n numbers\n",
    "'''\n",
    "#4. *args and **kwargs\n",
    "\n",
    "def all_sum (*argv):\n",
    "    sum_val = 0\n",
    "    for i in argv:\n",
    "        sum_val += i \n",
    "    return sum_val\n",
    "\n",
    "print(all_sum(1,2,3,4,5))\n",
    "\n",
    "\n",
    "def all_sum2(**kwargs):\n",
    "    for i,j in kwargs.items():\n",
    "        print(i,j)\n",
    "\n",
    "all_sum2(a = 1,b = 2,c=3,d=4,e=5)\n"
   ]
  },
  {
   "cell_type": "markdown",
   "id": "a1296adf",
   "metadata": {},
   "source": [
    "### Yield \n",
    "\n",
    "- This is used to created a geneartor\n",
    "- A Generator is a special type of iterator that yeilds one iteam at once as and when needed\n",
    "- Due to this instead of storing the entire sequence in memory it only stores the current state\n",
    "\n",
    "|return | yield|\n",
    "|-------|----------|\n",
    "|Exits the function| Pauses the function|\n",
    "|Retruns a single value| Returns a generator object|\n",
    "|Loses state after return| Remembers where it left off|"
   ]
  },
  {
   "cell_type": "code",
   "execution_count": 69,
   "id": "35c6865f",
   "metadata": {},
   "outputs": [
    {
     "name": "stdout",
     "output_type": "stream",
     "text": [
      "[0, 1, 2, 3, 4]\n",
      "0, 1, 2, 3, 4, 5, 6, 7, 8, "
     ]
    }
   ],
   "source": [
    "'''\n",
    "Function to give the count until n digits\n",
    "'''\n",
    "\n",
    "def count_until(n):\n",
    "    ct = []\n",
    "    for i in range(n):\n",
    "        ct.append(i)\n",
    "    return ct\n",
    "\n",
    "print(count_until(5))\n",
    "\n",
    "'''\n",
    "In the above code as we wanted to return a n number of values, we created a list to append it \n",
    "and then reutrn the list as a single value\n",
    "so return only help us with returning a single value\n",
    "'''\n",
    "\n",
    "'''\n",
    "Generators and help with return multiple values\n",
    "with the help of generators we created iterators\n",
    "'''\n",
    "\n",
    "def gen_count_until(n):\n",
    "    for i in range(n):\n",
    "        yield i\n",
    "\n",
    "# The above function is a generator we will have to loop in to get the next values      \n",
    "\n",
    "a = gen_count_until(9)\n",
    "\n",
    "for i in a:\n",
    "    print(i, end =\", \")\n"
   ]
  }
 ],
 "metadata": {
  "kernelspec": {
   "display_name": "Python 3",
   "language": "python",
   "name": "python3"
  },
  "language_info": {
   "codemirror_mode": {
    "name": "ipython",
    "version": 3
   },
   "file_extension": ".py",
   "mimetype": "text/x-python",
   "name": "python",
   "nbconvert_exporter": "python",
   "pygments_lexer": "ipython3",
   "version": "3.12.10"
  }
 },
 "nbformat": 4,
 "nbformat_minor": 5
}
