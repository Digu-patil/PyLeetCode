{
 "cells": [
  {
   "cell_type": "markdown",
   "id": "e88e24ef",
   "metadata": {},
   "source": [
    "# Python\n",
    "\n",
    "### Why do we need and interpreter for python?\n",
    "\n",
    "- Python is an interpreted language, i.e the Python code runs at run time by an interpreter.\n",
    "- Following are the steps that are followed to execute the python file\n",
    "    - hello.py --> converted to byte code --> Python Virtual Machine then interprets and executes the bytecode line by line\n",
    "    - Due to this we have something like Jupyter Notebooks for python\n",
    "- For a C/C++ program, they need compilers\n",
    "- Following are the steps followed to execute the C/C++ program\n",
    "    - hello.cpp --> compiled to machine code --> CPU runs the machine code\n",
    "    - But here we need to compile the entire code first, hence cannot run independently line by line."
   ]
  },
  {
   "cell_type": "markdown",
   "id": "e7d81f1e",
   "metadata": {},
   "source": [
    "### DataTypes in Python\n",
    "\n",
    "1. List = They are ordered collection of data\n",
    "2. Tuples = They are immutable (we cannot modify a tuple)\n",
    "3. Sets = They have unique values\n",
    "        = They have ordered vales\n",
    "4. Dictionary = They have key value pairs"
   ]
  },
  {
   "cell_type": "code",
   "execution_count": null,
   "id": "2f2abc6b",
   "metadata": {},
   "outputs": [
    {
     "name": "stdout",
     "output_type": "stream",
     "text": [
      "Type is : <class 'list'> and Value is [4, 4, 4, 3, 2, 1]\n",
      "Type is : <class 'set'> and Value is {1, 2, 3, 4}\n",
      "Type is : <class 'tuple'> and Value is (4, 4, 4, 3, 2, 1)\n",
      "Type is : <class 'dict'> and Value is {1: 4, 2: 4, 3: 4, 4: 3, 5: 2, 6: 1}\n"
     ]
    }
   ],
   "source": [
    "a = [4,4,4,3,2,1]\n",
    "print(f'Type is : {type(a)} and Value is {a}')\n",
    "# Type is : <class 'list'> and Value is [4, 4, 4, 3, 2, 1, 'Zero']\n",
    "\n",
    "b = set(a)\n",
    "print(f'Type is : {type(b)} and Value is {b}')\n",
    "# Type is : <class 'set'> and Value is {1, 2, 3, 4, 'Zero'}\n",
    "\n",
    "c = tuple(a)\n",
    "print(f'Type is : {type(c)} and Value is {c}')\n",
    "# Type is : <class 'tuple'> and Value is (4, 4, 4, 3, 2, 1, 'Zero')\n",
    "\n",
    "d = dict(enumerate(a))\n",
    "print(f'Type is : {type(d)} and Value is {d}')"
   ]
  },
  {
   "cell_type": "markdown",
   "id": "a6722dec",
   "metadata": {},
   "source": [
    "### Operators in Python"
   ]
  },
  {
   "cell_type": "code",
   "execution_count": 15,
   "id": "1665360e",
   "metadata": {},
   "outputs": [
    {
     "name": "stdout",
     "output_type": "stream",
     "text": [
      "10 % 5 is  0\n",
      "11 % 5 is  1\n",
      "-11 % 5 is  4\n",
      "9 // 3 is  3\n"
     ]
    }
   ],
   "source": [
    "'''\n",
    "There are a few standard basic operations like +,-,*,/\n",
    "Below is the list of some different operators\n",
    "'''\n",
    "\n",
    "# % used to get the remainder\n",
    "print(\"10 % 5 is \",10 % 5)\n",
    "# output = 0\n",
    "\n",
    "print(\"11 % 5 is \",11 % 5)\n",
    "# output = 1 as 1 is the remainder\n",
    "\n",
    "#Here is one catch or -ve numbers\n",
    "print(\"-11 % 5 is \",-11 % 5)\n",
    "# output = -3, this happends due to the following reason\n",
    "'''\n",
    "In Python the floor division goes till -ve infinity, unlike C/C++ where the floow is till 0\n",
    "as -11/5 = -2.2 and the floor goes till -ve infinity \n",
    "-11//5 returns -3 and not -2\n",
    "'''\n",
    "\n",
    "print(\"9 // 3 is \",9//3) #this is floor division \n",
    "#this returns the whole number of the \"Quotient\""
   ]
  },
  {
   "cell_type": "code",
   "execution_count": null,
   "id": "f4feab94",
   "metadata": {},
   "outputs": [
    {
     "name": "stdout",
     "output_type": "stream",
     "text": [
      "a is sotred at 140736985909976\n",
      "b is stored at 140736985909976\n",
      "c is sotred at 140736985909976\n",
      "d is stored at 140736985909976\n",
      "        a is b = True\n",
      "        a is c = True\n",
      "        a is d = True\n",
      "        c is d = True\n",
      "\n"
     ]
    }
   ],
   "source": [
    "# Assignment and comparision operator\n",
    "'''\n",
    " \"=\" is used for assignement\n",
    " \"==\" is used for comparision\n",
    "'''\n",
    "\n",
    "a = 10 # We assigend value 10 to variable a\n",
    "\n",
    "b = 10 # We assigned value 10 to variable b\n",
    "\n",
    "print(f'a is sotred at {id(a)}\\nb is stored at {id(b)}')\n",
    "'''\n",
    "The interseting part here will be to look at how these 2 different variables are sotred in the memeory\n",
    "\n",
    "Ouput = \n",
    "a is sotred at 140736985909976\n",
    "b is stored at 140736985909976\n",
    "\n",
    "They are point to the same location, this is because the value of those vairables is exactly same.\n",
    "'''\n",
    "\n",
    "# Let's try to assign another variable \n",
    "c = a\n",
    "d = b\n",
    "print(f'c is sotred at {id(c)}\\nd is stored at {id(d)}')\n",
    "\n",
    "# As exptected every variable is pointing to the same location \n",
    "\n",
    "print(f'a is b = {a is b}\\n\\\n",
    "        a is c = {a is c}\\n\\\n",
    "        a is d = {a is d}\\n\\\n",
    "        c is d = {c is d}\\n')\n",
    "\n"
   ]
  },
  {
   "cell_type": "code",
   "execution_count": 26,
   "id": "7b2a3605",
   "metadata": {},
   "outputs": [
    {
     "name": "stdout",
     "output_type": "stream",
     "text": [
      "l1 is sotred at 2680837711296\n",
      "l2 is stored at 2680877737536\n",
      "l1 == l2 = True\n",
      "l1 is l2 = False\n"
     ]
    }
   ],
   "source": [
    "'''\n",
    "Let's try to do it with few of the data structures\n",
    "'''\n",
    "\n",
    "l1 = [1,2]\n",
    "l2 = [1,2]\n",
    "print(f'l1 is sotred at {id(l1)}\\nl2 is stored at {id(l2)}')\n",
    "\n",
    "# These 2 lists have the same value but they are pointing to a different memory location\n",
    "\n",
    "print(f'l1 == l2 = {l1==l2}\\nl1 is l2 = {l1 is l2}')"
   ]
  },
  {
   "cell_type": "markdown",
   "id": "80509b1d",
   "metadata": {},
   "source": [
    "### Type Conversions\n",
    "\n",
    "1. type() - used to check type of a variable\n",
    "2. We can change the base using int as well\n",
    "    - e.g update base to 2 \n",
    "    - 11 would become 3 = int(11,2) would become 3\n",
    "3. hex() - convert to hexadecimal number\n",
    "4. oct() - convert to octa decimal number\n",
    "5. chr() - coverts ASCII values to characters"
   ]
  },
  {
   "cell_type": "code",
   "execution_count": 38,
   "id": "e625e47a",
   "metadata": {},
   "outputs": [
    {
     "name": "stdout",
     "output_type": "stream",
     "text": [
      "3 is of type <class 'int'>\n",
      "    ord(a) is 97\n",
      "    ord(z) is 122\n",
      "    ord(A) is 65\n",
      "    ord(Z) is 90\n",
      "    chr(97) is a\n"
     ]
    }
   ],
   "source": [
    "print(\n",
    "    f'3 is of type {type(3)}\\n\\\n",
    "    ord(a) is {ord('a')}\\n\\\n",
    "    ord(z) is {ord('z')}\\n\\\n",
    "    ord(A) is {ord('A')}\\n\\\n",
    "    ord(Z) is {ord('Z')}\\n\\\n",
    "    chr(97) is {chr(97)}'\n",
    ")"
   ]
  },
  {
   "cell_type": "code",
   "execution_count": 1,
   "id": "6c23da22",
   "metadata": {},
   "outputs": [
    {
     "name": "stdout",
     "output_type": "stream",
     "text": [
      "i is greater than 15\n",
      "i'm in else Block\n",
      "i'm not in if and not in else Block\n"
     ]
    }
   ],
   "source": [
    "i = 20\n",
    "if (i < 15):\n",
    "    print(\"i is smaller than 15\")\n",
    "    print(\"i'm in if Block\")\n",
    "else:\n",
    "    print(\"i is greater than 15\")\n",
    "    print(\"i'm in else Block\")\n",
    "print(\"i'm not in if and not in else Block\")"
   ]
  },
  {
   "cell_type": "markdown",
   "id": "18273f67",
   "metadata": {},
   "source": [
    "## Python Print Statement\n",
    "\n",
    "### print(*objects, sep=' ', end='\\n', file=None, flush=False)\n",
    "- *objects = This indicates that we can pass any number of values to print\n",
    "- sep = indicates what seperator should we used between the printed values\n",
    "- end = defulat is new line, i.e each print would start in a new line, but we can define a custom end\n",
    "- file = This indicates to which location we want to wirte the output, default is sys.stdout (the console)\n",
    "- flush = Takes boolean values, "
   ]
  },
  {
   "cell_type": "code",
   "execution_count": null,
   "id": "4c1a2331",
   "metadata": {},
   "outputs": [
    {
     "name": "stdout",
     "output_type": "stream",
     "text": [
      "1 2\n",
      "2 3\n",
      "3 4\n",
      "4 5\n",
      "5 6\n",
      "6 7\n",
      "7 8\n",
      "8 9\n",
      "9 10\n",
      "1,2\n",
      "2,3\n",
      "3,4\n",
      "4,5\n",
      "5,6\n",
      "6,7\n",
      "7,8\n",
      "8,9\n",
      "9,10\n",
      "1,2|2,3|3,4|4,5|5,6|6,7|7,8|8,9|9,10|"
     ]
    }
   ],
   "source": [
    "'''\n",
    "This is the normal way we print the output\n",
    "1. Every output is shown in a new line\n",
    "2. The seperator here we have is space\n",
    "'''\n",
    "for i in range(1,10):\n",
    "    print(i,i+1)  \n",
    "\n",
    "'''\n",
    "here we explicitly defined the seperator\n",
    "'''\n",
    "for i in range(1,10):\n",
    "    print(i,i+1, sep = ',')  \n",
    "\n",
    "'''\n",
    "Here we are printing in the same line, rather than moving to new line\n",
    "'''\n",
    "for i in range(1,10):\n",
    "    print(i,i+1, sep = ',', end = '|')  \n",
    "\n",
    "'''\n",
    "We have file named write_log.txt\n",
    "We can write the output of print statement to this file using \"file\" argument\n",
    "'''\n",
    "with open(\"write_log.txt\",\"a\") as wl:\n",
    "    print(\"Logged - 2\", file = wl)\n"
   ]
  }
 ],
 "metadata": {
  "kernelspec": {
   "display_name": "Python 3",
   "language": "python",
   "name": "python3"
  },
  "language_info": {
   "codemirror_mode": {
    "name": "ipython",
    "version": 3
   },
   "file_extension": ".py",
   "mimetype": "text/x-python",
   "name": "python",
   "nbconvert_exporter": "python",
   "pygments_lexer": "ipython3",
   "version": "3.12.10"
  }
 },
 "nbformat": 4,
 "nbformat_minor": 5
}
