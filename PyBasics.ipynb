{
 "cells": [
  {
   "cell_type": "markdown",
   "id": "e88e24ef",
   "metadata": {},
   "source": [
    "# Python\n",
    "\n",
    "### Why do we need and interpreter for python?\n",
    "\n",
    "- Python is an interpreted language, i.e the Python code runs at run time by an interpreter.\n",
    "- Following are the steps that are followed to execute the python file\n",
    "    - hello.py --> converted to byte code --> Python Virtual Machine then interprets and executes the bytecode line by line\n",
    "    - Due to this we have something like Jupyter Notebooks for python\n",
    "- For a C/C++ program, they need compilers\n",
    "- Following are the steps followed to execute the C/C++ program\n",
    "    - hello.cpp --> compiled to machine code --> CPU runs the machine code\n",
    "    - But here we need to compile the entire code first, hence cannot run independently line by line."
   ]
  },
  {
   "cell_type": "markdown",
   "id": "e7d81f1e",
   "metadata": {},
   "source": [
    "### DataTypes in Python\n",
    "\n",
    "1. List = They are ordered collection of data\n",
    "2. Tuples = They are immutable (we cannot modify a tuple)\n",
    "3. Sets = They have unique values\n",
    "        = They have ordered vales\n",
    "4. Dictionary = They have key value pairs"
   ]
  },
  {
   "cell_type": "code",
   "execution_count": null,
   "id": "a6722dec",
   "metadata": {},
   "outputs": [],
   "source": []
  },
  {
   "cell_type": "code",
   "execution_count": null,
   "id": "2f2abc6b",
   "metadata": {},
   "outputs": [
    {
     "name": "stdout",
     "output_type": "stream",
     "text": [
      "Type is : <class 'list'> and Value is [4, 4, 4, 3, 2, 1]\n",
      "Type is : <class 'set'> and Value is {1, 2, 3, 4}\n",
      "Type is : <class 'tuple'> and Value is (4, 4, 4, 3, 2, 1)\n",
      "Type is : <class 'dict'> and Value is {1: 4, 2: 4, 3: 4, 4: 3, 5: 2, 6: 1}\n"
     ]
    }
   ],
   "source": [
    "a = [4,4,4,3,2,1]\n",
    "print(f'Type is : {type(a)} and Value is {a}')\n",
    "# Type is : <class 'list'> and Value is [4, 4, 4, 3, 2, 1, 'Zero']\n",
    "\n",
    "b = set(a)\n",
    "print(f'Type is : {type(b)} and Value is {b}')\n",
    "# Type is : <class 'set'> and Value is {1, 2, 3, 4, 'Zero'}\n",
    "\n",
    "c = tuple(a)\n",
    "print(f'Type is : {type(c)} and Value is {c}')\n",
    "# Type is : <class 'tuple'> and Value is (4, 4, 4, 3, 2, 1, 'Zero')\n",
    "\n",
    "d = dict(enumerate(a))\n",
    "print(f'Type is : {type(d)} and Value is {d}')"
   ]
  }
 ],
 "metadata": {
  "kernelspec": {
   "display_name": "Python 3",
   "language": "python",
   "name": "python3"
  },
  "language_info": {
   "codemirror_mode": {
    "name": "ipython",
    "version": 3
   },
   "file_extension": ".py",
   "mimetype": "text/x-python",
   "name": "python",
   "nbconvert_exporter": "python",
   "pygments_lexer": "ipython3",
   "version": "3.12.10"
  }
 },
 "nbformat": 4,
 "nbformat_minor": 5
}
