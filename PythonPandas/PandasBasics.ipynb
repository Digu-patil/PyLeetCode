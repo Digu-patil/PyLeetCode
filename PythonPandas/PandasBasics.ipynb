{
 "cells": [
  {
   "cell_type": "code",
   "execution_count": 2,
   "id": "92a55eef",
   "metadata": {},
   "outputs": [
    {
     "data": {
      "text/html": [
       "<div>\n",
       "<style scoped>\n",
       "    .dataframe tbody tr th:only-of-type {\n",
       "        vertical-align: middle;\n",
       "    }\n",
       "\n",
       "    .dataframe tbody tr th {\n",
       "        vertical-align: top;\n",
       "    }\n",
       "\n",
       "    .dataframe thead th {\n",
       "        text-align: right;\n",
       "    }\n",
       "</style>\n",
       "<table border=\"1\" class=\"dataframe\">\n",
       "  <thead>\n",
       "    <tr style=\"text-align: right;\">\n",
       "      <th></th>\n",
       "      <th>Open</th>\n",
       "      <th>High</th>\n",
       "    </tr>\n",
       "  </thead>\n",
       "  <tbody>\n",
       "    <tr>\n",
       "      <th>0</th>\n",
       "      <td>1469.1</td>\n",
       "      <td>1498.8</td>\n",
       "    </tr>\n",
       "    <tr>\n",
       "      <th>1</th>\n",
       "      <td>1464.0</td>\n",
       "      <td>1472.4</td>\n",
       "    </tr>\n",
       "    <tr>\n",
       "      <th>2</th>\n",
       "      <td>1465.0</td>\n",
       "      <td>1475.0</td>\n",
       "    </tr>\n",
       "    <tr>\n",
       "      <th>3</th>\n",
       "      <td>1453.0</td>\n",
       "      <td>1463.8</td>\n",
       "    </tr>\n",
       "    <tr>\n",
       "      <th>4</th>\n",
       "      <td>1431.0</td>\n",
       "      <td>1471.0</td>\n",
       "    </tr>\n",
       "  </tbody>\n",
       "</table>\n",
       "</div>"
      ],
      "text/plain": [
       "     Open    High\n",
       "0  1469.1  1498.8\n",
       "1  1464.0  1472.4\n",
       "2  1465.0  1475.0\n",
       "3  1453.0  1463.8\n",
       "4  1431.0  1471.0"
      ]
     },
     "execution_count": 2,
     "metadata": {},
     "output_type": "execute_result"
    }
   ],
   "source": [
    "import pandas as pd\n",
    "\n",
    "# Reading data using pandas\n",
    "df = pd.read_csv('Reliance.csv')\n",
    "\n",
    "\n",
    "\n",
    "'''\n",
    "Series - 1D Labeled array\n",
    "DataFrames - 2D Labeled array\n",
    "\n",
    "A DataFrame is a dictionary of Series under the hood\n",
    "\n",
    "Both \"Series\" and \"DataFrame\" are subclass fo the NDFrame class\n",
    "\n",
    "NDFrame is the base class in pandas for all data strucutres that handle labeled, array like data\n",
    "\n",
    "'''\n",
    "df[['Date']]\n",
    "\n",
    "type(df[['Open','High']])\n",
    "\n",
    "df[['Open','High']]\n"
   ]
  },
  {
   "cell_type": "code",
   "execution_count": null,
   "id": "16aa1b0a",
   "metadata": {},
   "outputs": [],
   "source": []
  }
 ],
 "metadata": {
  "kernelspec": {
   "display_name": "Python 3",
   "language": "python",
   "name": "python3"
  },
  "language_info": {
   "codemirror_mode": {
    "name": "ipython",
    "version": 3
   },
   "file_extension": ".py",
   "mimetype": "text/x-python",
   "name": "python",
   "nbconvert_exporter": "python",
   "pygments_lexer": "ipython3",
   "version": "3.12.10"
  }
 },
 "nbformat": 4,
 "nbformat_minor": 5
}
