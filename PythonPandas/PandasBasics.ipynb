{
 "cells": [
  {
   "cell_type": "code",
   "execution_count": 1,
   "id": "92a55eef",
   "metadata": {},
   "outputs": [
    {
     "data": {
      "text/html": [
       "<div>\n",
       "<style scoped>\n",
       "    .dataframe tbody tr th:only-of-type {\n",
       "        vertical-align: middle;\n",
       "    }\n",
       "\n",
       "    .dataframe tbody tr th {\n",
       "        vertical-align: top;\n",
       "    }\n",
       "\n",
       "    .dataframe thead th {\n",
       "        text-align: right;\n",
       "    }\n",
       "</style>\n",
       "<table border=\"1\" class=\"dataframe\">\n",
       "  <thead>\n",
       "    <tr style=\"text-align: right;\">\n",
       "      <th></th>\n",
       "      <th>Date</th>\n",
       "      <th>Open</th>\n",
       "      <th>High</th>\n",
       "      <th>Low</th>\n",
       "      <th>Close</th>\n",
       "      <th>Volume</th>\n",
       "    </tr>\n",
       "  </thead>\n",
       "  <tbody>\n",
       "    <tr>\n",
       "      <th>0</th>\n",
       "      <td>2025-06-26</td>\n",
       "      <td>1469.1</td>\n",
       "      <td>1498.8</td>\n",
       "      <td>1465.1</td>\n",
       "      <td>1495.3</td>\n",
       "      <td>14657893</td>\n",
       "    </tr>\n",
       "    <tr>\n",
       "      <th>1</th>\n",
       "      <td>2025-06-25</td>\n",
       "      <td>1464.0</td>\n",
       "      <td>1472.4</td>\n",
       "      <td>1460.5</td>\n",
       "      <td>1467.3</td>\n",
       "      <td>7525851</td>\n",
       "    </tr>\n",
       "    <tr>\n",
       "      <th>2</th>\n",
       "      <td>2025-06-24</td>\n",
       "      <td>1465.0</td>\n",
       "      <td>1475.0</td>\n",
       "      <td>1443.1</td>\n",
       "      <td>1450.8</td>\n",
       "      <td>16402744</td>\n",
       "    </tr>\n",
       "    <tr>\n",
       "      <th>3</th>\n",
       "      <td>2025-06-23</td>\n",
       "      <td>1453.0</td>\n",
       "      <td>1463.8</td>\n",
       "      <td>1442.0</td>\n",
       "      <td>1456.8</td>\n",
       "      <td>5989078</td>\n",
       "    </tr>\n",
       "    <tr>\n",
       "      <th>4</th>\n",
       "      <td>2025-06-20</td>\n",
       "      <td>1431.0</td>\n",
       "      <td>1471.0</td>\n",
       "      <td>1428.1</td>\n",
       "      <td>1466.2</td>\n",
       "      <td>29010635</td>\n",
       "    </tr>\n",
       "  </tbody>\n",
       "</table>\n",
       "</div>"
      ],
      "text/plain": [
       "         Date    Open    High     Low   Close    Volume\n",
       "0  2025-06-26  1469.1  1498.8  1465.1  1495.3  14657893\n",
       "1  2025-06-25  1464.0  1472.4  1460.5  1467.3   7525851\n",
       "2  2025-06-24  1465.0  1475.0  1443.1  1450.8  16402744\n",
       "3  2025-06-23  1453.0  1463.8  1442.0  1456.8   5989078\n",
       "4  2025-06-20  1431.0  1471.0  1428.1  1466.2  29010635"
      ]
     },
     "execution_count": 1,
     "metadata": {},
     "output_type": "execute_result"
    }
   ],
   "source": [
    "import pandas as pd\n",
    "\n",
    "# Reading data using pandas\n",
    "df = pd.read_csv('Reliance.csv')\n",
    "\n",
    "\n",
    "\n",
    "'''\n",
    "Series - 1D Labeled array\n",
    "DataFrames - 2D Labeled array\n",
    "\n",
    "A DataFrame is a dictionary of Series under the hood\n",
    "\n",
    "Both \"Series\" and \"DataFrame\" are subclass fo the NDFrame class\n",
    "\n",
    "NDFrame is the base class in pandas for all data strucutres that handle labeled, array like data\n",
    "\n",
    "'''\n",
    "df"
   ]
  },
  {
   "cell_type": "markdown",
   "id": "16aa1b0a",
   "metadata": {},
   "source": [
    "# Filtering Data using Pandas\n",
    "\n",
    "- We are trying to look for a SQL \"Where\" function alternative\n",
    "- We can do it using df[df['col_name]>x]\n",
    "- We can also use the .query method"
   ]
  },
  {
   "cell_type": "code",
   "execution_count": 13,
   "id": "4c4c5ac9",
   "metadata": {},
   "outputs": [
    {
     "name": "stdout",
     "output_type": "stream",
     "text": [
      "Solution 1\n",
      "         Date    Open    High     Low   Close    Volume\n",
      "0  2025-06-26  1469.1  1498.8  1465.1  1495.3  14657893\n",
      "4  2025-06-20  1431.0  1471.0  1428.1  1466.2  29010635\n",
      "Solution 2\n",
      "         Date    Open    High     Low   Close    Volume\n",
      "0  2025-06-26  1469.1  1498.8  1465.1  1495.3  14657893\n",
      "4  2025-06-20  1431.0  1471.0  1428.1  1466.2  29010635\n"
     ]
    }
   ],
   "source": [
    "'''\n",
    "Lets try to find the days where\n",
    "1. Volumne > 10000000\n",
    "'''\n",
    "# Solution 1\n",
    "df[df['Volume'] > 10000000]\n",
    "\n",
    "'''\n",
    "Lets try to find the days where\n",
    "1. Volumne > 10000000\n",
    "2. Close > 1460\n",
    "'''\n",
    "# Solution 1\n",
    "print(\"Solution 1\")\n",
    "print(df[(df['Volume'] > 10000000) & (df['Close'] > 1460)])\n",
    "\n",
    "# Solution 1\n",
    "print(\"Solution 2\")\n",
    "print(df.query('Volume > 10000000 and Close > 1460'))"
   ]
  }
 ],
 "metadata": {
  "kernelspec": {
   "display_name": "Python 3",
   "language": "python",
   "name": "python3"
  },
  "language_info": {
   "codemirror_mode": {
    "name": "ipython",
    "version": 3
   },
   "file_extension": ".py",
   "mimetype": "text/x-python",
   "name": "python",
   "nbconvert_exporter": "python",
   "pygments_lexer": "ipython3",
   "version": "3.12.10"
  }
 },
 "nbformat": 4,
 "nbformat_minor": 5
}
