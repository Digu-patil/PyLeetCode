{
 "cells": [
  {
   "cell_type": "markdown",
   "id": "63a50a0d",
   "metadata": {},
   "source": [
    "# June"
   ]
  },
  {
   "cell_type": "markdown",
   "id": "35f2a615",
   "metadata": {},
   "source": [
    "## 6/5/2025\n",
    "\n",
    "### enumerate(iterable, start)\n",
    "- iterable = the sequence we want to loop thorugh\n",
    "- start (optional) = default is 0, what value should we start counting from \n",
    "\n"
   ]
  },
  {
   "cell_type": "code",
   "execution_count": null,
   "id": "1374a71e",
   "metadata": {},
   "outputs": [
    {
     "name": "stdout",
     "output_type": "stream",
     "text": [
      "0 apple\n",
      "1 banana\n",
      "2 cherry\n",
      "--------------------\n",
      "0 apple\n",
      "1 banana\n",
      "2 cherry\n",
      "--------------------\n",
      "0 apple\n",
      "1 banana\n",
      "2 cherry\n",
      "--------------------\n",
      "0 a\n",
      "1 p\n",
      "2 p\n",
      "3 l\n",
      "4 e\n",
      "--------------------\n"
     ]
    }
   ],
   "source": [
    "#enumerate on arrays\n",
    "\n",
    "fruits_list = ['apple','banana','cherry']\n",
    "fruits_tuple = ('apple','banana','cherry')\n",
    "fruits_dict = {'apple','banana','cherry'}\n",
    "one_fruit = 'apple'\n",
    "\n",
    "for index,fruit in enumerate(fruits_list):\n",
    "    print(index,fruit)\n",
    "print(\"--------------------\")\n",
    "\n",
    "for index,fruit in enumerate(fruits_tuple,1):\n",
    "    print(index,fruit)\n",
    "print(\"--------------------\")\n",
    "\n",
    "for index,fruit in enumerate(fruits_dict,11):\n",
    "    print(index,fruit)\n",
    "print(\"--------------------\")\n",
    "\n",
    "for index,fruit in enumerate(one_fruit):\n",
    "    print(index,fruit)\n",
    "print(\"--------------------\")"
   ]
  },
  {
   "cell_type": "code",
   "execution_count": null,
   "id": "a09ae57d",
   "metadata": {},
   "outputs": [],
   "source": []
  }
 ],
 "metadata": {
  "kernelspec": {
   "display_name": "Python 3",
   "language": "python",
   "name": "python3"
  },
  "language_info": {
   "codemirror_mode": {
    "name": "ipython",
    "version": 3
   },
   "file_extension": ".py",
   "mimetype": "text/x-python",
   "name": "python",
   "nbconvert_exporter": "python",
   "pygments_lexer": "ipython3",
   "version": "3.12.10"
  }
 },
 "nbformat": 4,
 "nbformat_minor": 5
}
