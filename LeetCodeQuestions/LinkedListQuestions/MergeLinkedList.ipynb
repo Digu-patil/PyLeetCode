{
 "cells": [
  {
   "cell_type": "code",
   "execution_count": 8,
   "id": "db9017a2",
   "metadata": {},
   "outputs": [],
   "source": [
    "from linked_list import LinkedList\n",
    "\n",
    "l1 = LinkedList()\n",
    "l2 = LinkedList()"
   ]
  },
  {
   "cell_type": "code",
   "execution_count": 9,
   "id": "5de42b71",
   "metadata": {},
   "outputs": [
    {
     "name": "stdout",
     "output_type": "stream",
     "text": [
      "1 -> 2 -> 4 -> None\n",
      "1 -> 3 -> 4 -> None\n"
     ]
    }
   ],
   "source": [
    "l1.append(1)\n",
    "l1.append(2)\n",
    "l1.append(4)\n",
    "l2.append(1)\n",
    "l2.append(3)\n",
    "l2.append(4)\n",
    "\n",
    "l1.show()\n",
    "l2.show()\n"
   ]
  }
 ],
 "metadata": {
  "kernelspec": {
   "display_name": "Python 3",
   "language": "python",
   "name": "python3"
  },
  "language_info": {
   "codemirror_mode": {
    "name": "ipython",
    "version": 3
   },
   "file_extension": ".py",
   "mimetype": "text/x-python",
   "name": "python",
   "nbconvert_exporter": "python",
   "pygments_lexer": "ipython3",
   "version": "3.12.10"
  }
 },
 "nbformat": 4,
 "nbformat_minor": 5
}
