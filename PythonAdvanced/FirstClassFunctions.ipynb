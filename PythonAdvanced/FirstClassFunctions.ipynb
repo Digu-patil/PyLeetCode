{
 "cells": [
  {
   "cell_type": "markdown",
   "id": "9b8390f0",
   "metadata": {},
   "source": [
    "## Understanding First Class Functions\n",
    "\n",
    "- When the functions in an programming language are treated as first class citizens then it is said to have First Class Functions\n",
    "- What is a first class citizen\n",
    "    - Functions can be assigned as variables\n",
    "    - Functions can be passed as arguments\n",
    "    - Functions can be returned from another functions.\n"
   ]
  },
  {
   "cell_type": "code",
   "execution_count": 12,
   "id": "e48e8fc1",
   "metadata": {},
   "outputs": [
    {
     "name": "stdout",
     "output_type": "stream",
     "text": [
      "------------------------------\n",
      "<function square at 0x000001212B700A40>\n",
      "<function square at 0x000001212B700A40>\n",
      "9\n",
      "------------------------------\n",
      "5\n",
      "28\n",
      "------------------------------\n",
      "<function math_operation.<locals>.sq_root at 0x000001212B6D7740>\n",
      "Square Root is 2.0\n"
     ]
    }
   ],
   "source": [
    "# Let's define a function\n",
    "\n",
    "def square(n):\n",
    "    return n**2\n",
    "\n",
    "def cube(n):\n",
    "    return n**3\n",
    "\n",
    "''' 1. Function can be assinged as variables '''\n",
    "print('------------------------------')\n",
    "var1 = square\n",
    "\n",
    "print(square)  #This gives use the location of the square function\n",
    "print(var1)  #As square is assigend to var1, this too retrun the location of the square function\n",
    "\n",
    "print(var1(3)) # We can now use var1 as the square function\n",
    "\n",
    "''' 2. Function can be passed as an argument '''\n",
    "print('------------------------------')\n",
    "def PlusOne(function_name,n):\n",
    "    return function_name(n)+1\n",
    "\n",
    "print(PlusOne(square, 2))\n",
    "print(PlusOne(cube, 3))\n",
    "\n",
    "''' 3. Function can be returned from anoter function'''\n",
    "print('------------------------------')\n",
    "\n",
    "def math_operation(n):\n",
    "    def sq_root():\n",
    "        print(f'Square Root is {n**0.5}')\n",
    "    return sq_root\n",
    "\n",
    "root_value = math_operation(4)\n",
    "\n",
    "print(root_value)\n",
    "root_value()\n"
   ]
  }
 ],
 "metadata": {
  "kernelspec": {
   "display_name": "Python 3",
   "language": "python",
   "name": "python3"
  },
  "language_info": {
   "codemirror_mode": {
    "name": "ipython",
    "version": 3
   },
   "file_extension": ".py",
   "mimetype": "text/x-python",
   "name": "python",
   "nbconvert_exporter": "python",
   "pygments_lexer": "ipython3",
   "version": "3.12.10"
  }
 },
 "nbformat": 4,
 "nbformat_minor": 5
}
