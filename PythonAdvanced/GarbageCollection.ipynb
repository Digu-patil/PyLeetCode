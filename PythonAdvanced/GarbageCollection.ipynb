{
 "cells": [
  {
   "cell_type": "code",
   "execution_count": 3,
   "id": "e15ed20b",
   "metadata": {},
   "outputs": [
    {
     "name": "stdout",
     "output_type": "stream",
     "text": [
      "None\n"
     ]
    }
   ],
   "source": [
    "def cycle():\n",
    "    x = []\n",
    "    x.append(x)\n",
    "\n",
    "print(cycle())"
   ]
  },
  {
   "cell_type": "code",
   "execution_count": 1,
   "id": "7287025e",
   "metadata": {},
   "outputs": [
    {
     "name": "stdout",
     "output_type": "stream",
     "text": [
      "140715338058424\n",
      "140715338058264\n"
     ]
    }
   ],
   "source": [
    "b = 9\n",
    "print(id(b))\n",
    "\n",
    "b = 4\n",
    "print(id(b))"
   ]
  }
 ],
 "metadata": {
  "kernelspec": {
   "display_name": "Python 3",
   "language": "python",
   "name": "python3"
  },
  "language_info": {
   "codemirror_mode": {
    "name": "ipython",
    "version": 3
   },
   "file_extension": ".py",
   "mimetype": "text/x-python",
   "name": "python",
   "nbconvert_exporter": "python",
   "pygments_lexer": "ipython3",
   "version": "3.12.10"
  }
 },
 "nbformat": 4,
 "nbformat_minor": 5
}
